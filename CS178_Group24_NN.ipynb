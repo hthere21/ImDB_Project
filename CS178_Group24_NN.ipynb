{
 "cells": [
  {
   "cell_type": "code",
   "execution_count": 17,
   "id": "05ade3a3-8699-4003-819c-cf4ab2022e0e",
   "metadata": {},
   "outputs": [
    {
     "name": "stderr",
     "output_type": "stream",
     "text": [
      "[nltk_data] Downloading package punkt to /Users/hthere215/nltk_data...\n",
      "[nltk_data]   Package punkt is already up-to-date!\n"
     ]
    }
   ],
   "source": [
    "import nltk\n",
    "nltk.download('punkt')\n",
    "import re\n",
    "import os\n",
    "import numpy as np\n",
    "import matplotlib.pyplot as plt\n",
    "import random\n",
    "\n",
    "from sklearn.neural_network import MLPClassifier\n",
    "from sklearn.feature_extraction.text import CountVectorizer\n",
    "from sklearn.feature_extraction.text import TfidfVectorizer\n",
    "from sklearn.metrics import accuracy_score, classification_report\n",
    "from sklearn.model_selection import train_test_split\n",
    "from sklearn.feature_extraction.text import ENGLISH_STOP_WORDS\n",
    "from nltk.tokenize import word_tokenize\n",
    "from nltk.corpus import stopwords"
   ]
  },
  {
   "cell_type": "code",
   "execution_count": 18,
   "id": "5c794498",
   "metadata": {
    "id": "5c794498"
   },
   "outputs": [
    {
     "name": "stdout",
     "output_type": "stream",
     "text": [
      "25000\n"
     ]
    }
   ],
   "source": [
    "# Load NLTK stopwords\n",
    "stop_words = set(stopwords.words('english'))\n",
    "\n",
    "# Step 1: Load the dataset\n",
    "def load_data(directory):\n",
    "    data = []\n",
    "    labels = []\n",
    "    for label in ['pos', 'neg']:\n",
    "        path = os.path.join(directory, label)\n",
    "        for filename in os.listdir(path):\n",
    "            with open(os.path.join(path, filename), 'r', encoding='utf-8') as file:\n",
    "                data.append(file.read())\n",
    "                labels.append(1 if label == 'pos' else 0)\n",
    "    return data, labels\n",
    "\n",
    "# Paths to train and test directories\n",
    "train_path = '/Users/hthere215/Desktop/cs178_project/aclImdb/train'\n",
    "test_path = '/Users/hthere215/Desktop/cs178_project/aclImdb/test'\n",
    "\n",
    "# Load the data\n",
    "train_data, train_labels = load_data(train_path)\n",
    "test_data, test_labels = load_data(test_path)\n",
    "\n",
    "print(len(train_data))"
   ]
  },
  {
   "cell_type": "code",
   "execution_count": 30,
   "id": "a1f45314-fc07-4da9-86c8-a99c97008041",
   "metadata": {},
   "outputs": [],
   "source": [
    "# Step 2: Text Preprocessing (Remove stop words, clean data, tokenize)\n",
    "def preprocess_text(text):\n",
    "    # Remove HTML tags\n",
    "    text = re.sub(r'<.*?>', '', text)\n",
    "    # Remove punctuation\n",
    "    text = re.sub(r'[^\\w\\s]', '', text)\n",
    "    # Tokenize\n",
    "    tokens = word_tokenize(text)\n",
    "    # Remove stop words\n",
    "    tokens = [word.lower() for word in tokens if word.lower() not in stop_words]\n",
    "    return ' '.join(tokens)\n",
    "    \n",
    "# Apply preprocessing to the data and include labels\n",
    "train_data_preprocessed_with_labels = [(preprocess_text(text), label) for text, label in zip(train_data, train_labels)]\n",
    "test_data_preprocessed_with_labels = [(preprocess_text(text), label) for text, label in zip(test_data, test_labels)]\n",
    "\n",
    "# Shuffle the data\n",
    "random.shuffle(train_data_preprocessed_with_labels)\n",
    "random.shuffle(test_data_preprocessed_with_labels)\n",
    "\n",
    "#Trim down the data for faster processing\n",
    "train_data_preprocessed_with_labels = train_data_preprocessed_with_labels[:6000]"
   ]
  },
  {
   "cell_type": "code",
   "execution_count": 99,
   "id": "1da65149-6e41-4146-bc18-9ba01fea80f1",
   "metadata": {},
   "outputs": [
    {
     "name": "stdout",
     "output_type": "stream",
     "text": [
      "Number of training samples: 6000\n",
      "Number of features: 60164\n",
      "Number of test samples: 25000\n",
      "(6000, 60164)\n",
      "(25000, 60164)\n"
     ]
    }
   ],
   "source": [
    "import matplotlib.pyplot as plt\n",
    "from collections import Counter\n",
    "\n",
    "# Vectorize Text Data\n",
    "vectorizer = CountVectorizer(stop_words='english')\n",
    "X_train1 = vectorizer.fit_transform([text for text, _ in train_data_preprocessed_with_labels])\n",
    "X_test1 = vectorizer.transform([text for text, _ in test_data_preprocessed_with_labels])\n",
    "\n",
    "# Labels\n",
    "y_train1 = [label for _, label in train_data_preprocessed_with_labels]\n",
    "y_test1 = [label for _, label in test_data_preprocessed_with_labels]\n",
    "\n",
    "\n",
    "# Get the shape of X_train2\n",
    "num_train_samples, num_features = X_train1.shape\n",
    "print(f\"Number of training samples: {num_train_samples}\")\n",
    "print(f\"Number of features: {num_features}\")\n",
    "\n",
    "# Get the shape of X_test2\n",
    "num_test_samples, _ = X_test1.shape\n",
    "print(f\"Number of test samples: {num_test_samples}\")\n",
    "\n",
    "# Get the vocabulary dictionary\n",
    "vocabulary = vectorizer.vocabulary_\n",
    "print(X_train1.shape)\n",
    "print(X_test1.shape)"
   ]
  },
  {
   "cell_type": "code",
   "execution_count": 57,
   "id": "17571e42-f258-4e76-8e59-109d00821085",
   "metadata": {},
   "outputs": [
    {
     "name": "stdout",
     "output_type": "stream",
     "text": [
      "Test Accuracy: 0.83944\n"
     ]
    }
   ],
   "source": [
    "# Set the learning rate\n",
    "learning_rate = 0.01\n",
    "\n",
    "# Create and train the model\n",
    "clf = MLPClassifier(hidden_layer_sizes=(80), max_iter=100, alpha=0.01, learning_rate_init=learning_rate, random_state=42)\n",
    "clf.fit(X_train1, y_train1)\n",
    "\n",
    "# Evaluate the model\n",
    "test_predictions1 = clf.predict(X_test1)\n",
    "test_accuracy1 = accuracy_score(y_test1, test_predictions1)\n",
    "\n",
    "# Print the accuracy\n",
    "print(f'Test Accuracy: {test_accuracy1}')"
   ]
  },
  {
   "cell_type": "code",
   "execution_count": 40,
   "id": "e026a7ec-de05-4401-88a1-111266fc2cd9",
   "metadata": {},
   "outputs": [
    {
     "name": "stdout",
     "output_type": "stream",
     "text": [
      "Negative sentiment\n"
     ]
    }
   ],
   "source": [
    "# Example sentence\n",
    "new_sentence = \"This is worst movie!\"\n",
    "# Preprocess the new sentence\n",
    "preprocessed_sentence = preprocess_text(new_sentence)\n",
    "# Vectorize the preprocessed sentence using the same vectorizer\n",
    "new_sentence_tfidf = vectorizer.transform([preprocessed_sentence])\n",
    "# Make predictions\n",
    "prediction = clf.predict(new_sentence_tfidf)\n",
    "\n",
    "# Print the predicted sentiment\n",
    "if prediction[0] == 1:\n",
    "    print(\"Positive sentiment\")\n",
    "else:\n",
    "    print(\"Negative sentiment\")"
   ]
  },
  {
   "cell_type": "code",
   "execution_count": 38,
   "id": "dd904083-2655-49e7-99ba-2ab38ca37107",
   "metadata": {},
   "outputs": [
    {
     "name": "stdout",
     "output_type": "stream",
     "text": [
      "Number of training samples: 6000\n",
      "Number of features: 535388\n",
      "Number of test samples: 25000\n"
     ]
    }
   ],
   "source": [
    "# Vectorize Text Data with 2-grams\n",
    "vectorizer2 = CountVectorizer(ngram_range=(2, 2))  # This specifies 2-grams\n",
    "X_train2 = vectorizer2.fit_transform([text for text, _ in train_data_preprocessed_with_labels])\n",
    "X_test2 = vectorizer2.transform([text for text, _ in test_data_preprocessed_with_labels])\n",
    "\n",
    "# Labels\n",
    "y_train2 = [label for _, label in train_data_preprocessed_with_labels]\n",
    "y_test2 = [label for _, label in test_data_preprocessed_with_labels]\n",
    "\n",
    "# Get the shape of X_train2\n",
    "num_train_samples, num_features = X_train2.shape\n",
    "print(f\"Number of training samples: {num_train_samples}\")\n",
    "print(f\"Number of features: {num_features}\")\n",
    "\n",
    "# Get the shape of X_test2\n",
    "num_test_samples, _ = X_test2.shape\n",
    "print(f\"Number of test samples: {num_test_samples}\")\n"
   ]
  },
  {
   "cell_type": "code",
   "execution_count": 41,
   "id": "4f0df3a3-6d1b-4ac3-8967-d51993a7eb4c",
   "metadata": {},
   "outputs": [
    {
     "name": "stdout",
     "output_type": "stream",
     "text": [
      "Test Accuracy 0.75736\n"
     ]
    }
   ],
   "source": [
    "# Set the learning rate\n",
    "learning_rate = 0.01\n",
    "\n",
    "# Create and train the model\n",
    "clf2 = MLPClassifier(hidden_layer_sizes=(80), max_iter=100, alpha=0.01, learning_rate_init=learning_rate, random_state=42)\n",
    "clf2.fit(X_train2, y_train2)\n",
    "\n",
    "# Evaluate the model\n",
    "test_predictions2 = clf2.predict(X_test2)\n",
    "test_accuracy2 = accuracy_score(y_test2, test_predictions2)\n",
    "\n",
    "# Print the accuracy\n",
    "print(f'Test Accuracy {test_accuracy2}')"
   ]
  },
  {
   "cell_type": "code",
   "execution_count": 42,
   "id": "6cb47345-194c-410f-8d52-1a157be0caea",
   "metadata": {},
   "outputs": [
    {
     "name": "stdout",
     "output_type": "stream",
     "text": [
      "Number of training samples: 6000\n",
      "Number of features: 689495\n",
      "Number of test samples: 25000\n"
     ]
    }
   ],
   "source": [
    "# Vectorize Text Data with 3-grams\n",
    "vectorizer3 = CountVectorizer(ngram_range=(3, 3))\n",
    "X_train3 = vectorizer3.fit_transform([text for text, _ in train_data_preprocessed_with_labels])\n",
    "X_test3 = vectorizer3.transform([text for text, _ in test_data_preprocessed_with_labels])\n",
    "\n",
    "# Labels\n",
    "y_train3 = [label for _, label in train_data_preprocessed_with_labels]\n",
    "y_test3 = [label for _, label in test_data_preprocessed_with_labels]\n",
    "\n",
    "# Get the shape of X_train2\n",
    "num_train_samples, num_features = X_train3.shape\n",
    "print(f\"Number of training samples: {num_train_samples}\")\n",
    "print(f\"Number of features: {num_features}\")\n",
    "\n",
    "# Get the shape of X_test2\n",
    "num_test_samples, _ = X_test3.shape\n",
    "print(f\"Number of test samples: {num_test_samples}\")"
   ]
  },
  {
   "cell_type": "code",
   "execution_count": 43,
   "id": "6d8284d8-3688-4ca5-bedb-96bc26580035",
   "metadata": {},
   "outputs": [
    {
     "name": "stdout",
     "output_type": "stream",
     "text": [
      "Test Accuracy with 3-gram: 0.64536\n"
     ]
    }
   ],
   "source": [
    "# Set the learning rate\n",
    "learning_rate = 0.01\n",
    "\n",
    "# Create and train the model\n",
    "clf3 = MLPClassifier(hidden_layer_sizes=(80), max_iter=200, alpha=0.01, learning_rate_init=learning_rate, random_state=42)\n",
    "clf3.fit(X_train3, y_train3)\n",
    "\n",
    "# Evaluate the model\n",
    "test_predictions3 = clf3.predict(X_test3)\n",
    "test_accuracy3 = accuracy_score(y_test3, test_predictions3)\n",
    "\n",
    "# Print the accuracy\n",
    "print(f'Test Accuracy with 3-gram: {test_accuracy3}')"
   ]
  },
  {
   "cell_type": "code",
   "execution_count": 44,
   "id": "33e97877-2f49-4a3d-aaa9-8eff4d886b4e",
   "metadata": {},
   "outputs": [
    {
     "name": "stdout",
     "output_type": "stream",
     "text": [
      "Number of training samples: 6000\n",
      "Number of features: 595740\n",
      "Number of test samples: 25000\n"
     ]
    }
   ],
   "source": [
    "# Vectorize Text Data with 1-grams and 2-gram\n",
    "vectorizer4 = CountVectorizer(ngram_range=(1, 2))\n",
    "X_train4 = vectorizer4.fit_transform([text for text, _ in train_data_preprocessed_with_labels])\n",
    "X_test4 = vectorizer4.transform([text for text, _ in test_data_preprocessed_with_labels])\n",
    "\n",
    "# Labels\n",
    "y_train4 = [label for _, label in train_data_preprocessed_with_labels]\n",
    "y_test4 = [label for _, label in test_data_preprocessed_with_labels]\n",
    "\n",
    "# Get the shape of X_train4\n",
    "num_train_samples, num_features = X_train4.shape\n",
    "print(f\"Number of training samples: {num_train_samples}\")\n",
    "print(f\"Number of features: {num_features}\")\n",
    "\n",
    "# Get the shape of X_test4\n",
    "num_test_samples, _ = X_test4.shape\n",
    "print(f\"Number of test samples: {num_test_samples}\")"
   ]
  },
  {
   "cell_type": "code",
   "execution_count": 45,
   "id": "2bdcd235-17f3-4996-9f1f-8fc8efed4ccc",
   "metadata": {},
   "outputs": [
    {
     "name": "stdout",
     "output_type": "stream",
     "text": [
      "Test Accuracy with 3-gram: 0.843\n"
     ]
    }
   ],
   "source": [
    "# Set the learning rate\n",
    "learning_rate = 0.01\n",
    "\n",
    "# Create and train the model\n",
    "clf4 = MLPClassifier(hidden_layer_sizes=(80), max_iter=200, alpha=0.01, learning_rate_init=learning_rate, random_state=42)\n",
    "clf4.fit(X_train4, y_train4)\n",
    "\n",
    "# Evaluate the model\n",
    "test_predictions4 = clf4.predict(X_test4)\n",
    "test_accuracy4 = accuracy_score(y_test4, test_predictions4)\n",
    "\n",
    "# Print the accuracy\n",
    "print(f'Test Accuracy with 3-gram: {test_accuracy4}')"
   ]
  },
  {
   "cell_type": "code",
   "execution_count": 46,
   "id": "0999d3c0-ada2-45a1-ab7c-282a5fe9c876",
   "metadata": {},
   "outputs": [
    {
     "name": "stdout",
     "output_type": "stream",
     "text": [
      "Number of training samples: 6000\n",
      "Number of features: 1285235\n",
      "Number of test samples: 25000\n"
     ]
    }
   ],
   "source": [
    "# Vectorize Text Data with 1-grams and 2-gram\n",
    "vectorizer5 = CountVectorizer(ngram_range=(1, 3))\n",
    "X_train5 = vectorizer5.fit_transform([text for text, _ in train_data_preprocessed_with_labels])\n",
    "X_test5 = vectorizer5.transform([text for text, _ in test_data_preprocessed_with_labels])\n",
    "\n",
    "# Labels\n",
    "y_train5 = [label for _, label in train_data_preprocessed_with_labels]\n",
    "y_test5 = [label for _, label in test_data_preprocessed_with_labels]\n",
    "\n",
    "# Get the shape of X_train4\n",
    "num_train_samples, num_features = X_train5.shape\n",
    "print(f\"Number of training samples: {num_train_samples}\")\n",
    "print(f\"Number of features: {num_features}\")\n",
    "\n",
    "# Get the shape of X_test4\n",
    "num_test_samples, _ = X_test5.shape\n",
    "print(f\"Number of test samples: {num_test_samples}\")"
   ]
  },
  {
   "cell_type": "code",
   "execution_count": 48,
   "id": "215bb181-2c11-4a30-a5e9-b5387c791988",
   "metadata": {},
   "outputs": [
    {
     "name": "stdout",
     "output_type": "stream",
     "text": [
      "Test Accuracy with 1-gram, 2-gram and 3-gram : 0.84132\n"
     ]
    }
   ],
   "source": [
    "# Set the learning rate\n",
    "learning_rate = 0.01\n",
    "\n",
    "# Create and train the model\n",
    "clf5 = MLPClassifier(hidden_layer_sizes=(80), max_iter=200, alpha=0.01, learning_rate_init=learning_rate, random_state=42)\n",
    "clf5.fit(X_train5, y_train5)\n",
    "\n",
    "# Evaluate the model\n",
    "test_predictions5 = clf5.predict(X_test5)\n",
    "test_accuracy5 = accuracy_score(y_test5, test_predictions5)\n",
    "\n",
    "# Print the accuracy\n",
    "print(f'Test Accuracy with 1-gram, 2-gram and 3-gram : {test_accuracy5}')"
   ]
  },
  {
   "cell_type": "code",
   "execution_count": 50,
   "id": "684dd128-c434-49d2-8739-cb17f6461640",
   "metadata": {},
   "outputs": [
    {
     "name": "stdout",
     "output_type": "stream",
     "text": [
      "Number of training samples (TF-IDF): 6000\n",
      "Number of features (TF-IDF): 60352\n",
      "Number of test samples (TF-IDF): 25000\n"
     ]
    }
   ],
   "source": [
    "# Vectorize Text Data with TF-IDF\n",
    "tfidf_vectorizer = TfidfVectorizer()\n",
    "X_train_tfidf = tfidf_vectorizer.fit_transform([text for text, _ in train_data_preprocessed_with_labels])\n",
    "X_test_tfidf = tfidf_vectorizer.transform([text for text, _ in test_data_preprocessed_with_labels])\n",
    "\n",
    "# Labels\n",
    "y_train_tfidf = [label for _, label in train_data_preprocessed_with_labels]\n",
    "y_test_tfidf = [label for _, label in test_data_preprocessed_with_labels]\n",
    "\n",
    "# Get the shape of X_train_tfidf\n",
    "num_train_samples_tfidf, num_features_tfidf = X_train_tfidf.shape\n",
    "print(f\"Number of training samples (TF-IDF): {num_train_samples_tfidf}\")\n",
    "print(f\"Number of features (TF-IDF): {num_features_tfidf}\")\n",
    "\n",
    "# Get the shape of X_test_tfidf\n",
    "num_test_samples_tfidf, _ = X_test_tfidf.shape\n",
    "print(f\"Number of test samples (TF-IDF): {num_test_samples_tfidf}\")"
   ]
  },
  {
   "cell_type": "code",
   "execution_count": 53,
   "id": "ee3dab08-3397-4f77-b397-a82e655f537e",
   "metadata": {},
   "outputs": [
    {
     "name": "stdout",
     "output_type": "stream",
     "text": [
      "Test Accuracy with 1-gram tf-idf: 0.83672\n"
     ]
    }
   ],
   "source": [
    "# Set the learning rate\n",
    "learning_rate = 0.01\n",
    "\n",
    "# Create and train the model\n",
    "clf6 = MLPClassifier(hidden_layer_sizes=(80), max_iter=200, alpha=0.01, learning_rate_init=learning_rate, random_state=42)\n",
    "clf6.fit(X_train_tfidf, y_train_tfidf)\n",
    "\n",
    "# Evaluate the model\n",
    "test_predictions6 = clf6.predict(X_test_tfidf)\n",
    "test_accuracy6 = accuracy_score(y_test_tfidf, test_predictions6)\n",
    "\n",
    "# Print the accuracy\n",
    "print(f'Test Accuracy with 1-gram tf-idf: {test_accuracy6}')"
   ]
  },
  {
   "cell_type": "code",
   "execution_count": 89,
   "id": "d270baa2-12e1-44fc-b970-60f7c78905e4",
   "metadata": {},
   "outputs": [
    {
     "data": {
      "image/png": "[encoded data removed]",
      "text/plain": [
       "<Figure size 640x480 with 1 Axes>"
      ]
     },
     "metadata": {},
     "output_type": "display_data"
    }
   ],
   "source": [
    "# Train models and evaluate test accuracy\n",
    "test_accuracies = []\n",
    "test_accuracies.append(test_accuracy1)\n",
    "test_accuracies.append(test_accuracy2)\n",
    "test_accuracies.append(test_accuracy3)\n",
    "test_accuracies.append(test_accuracy4)\n",
    "test_accuracies.append(test_accuracy5)\n",
    "test_accuracies.append(test_accuracy6)\n",
    "# Plot the results\n",
    "plt.plot(range(1, 7), test_accuracies, marker='o')\n",
    "plt.title('Test Accuracy for Different N-gram Ranges of Neural Network')\n",
    "plt.xlabel('N-gram Range')\n",
    "plt.ylabel('Test Accuracy')\n",
    "plt.xticks(range(1, 7), ['1-gram', '2-gram', '3-gram', '1 & 2-gram', '1,2,3-gram', 'tf-idf'])\n",
    "plt.show()"
   ]
  }
 ],
 "metadata": {
  "colab": {
   "provenance": [],
   "toc_visible": true
  },
  "kernelspec": {
   "display_name": "Python 3 (ipykernel)",
   "language": "python",
   "name": "python3"
  },
  "language_info": {
   "codemirror_mode": {
    "name": "ipython",
    "version": 3
   },
   "file_extension": ".py",
   "mimetype": "text/x-python",
   "name": "python",
   "nbconvert_exporter": "python",
   "pygments_lexer": "ipython3",
   "version": "3.10.13"
  }
 },
 "nbformat": 4,
 "nbformat_minor": 5
}
